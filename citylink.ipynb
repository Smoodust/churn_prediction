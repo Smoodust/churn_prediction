{
  "nbformat": 4,
  "nbformat_minor": 0,
  "metadata": {
    "colab": {
      "name": "citylink.ipynb",
      "provenance": [],
      "collapsed_sections": []
    },
    "kernelspec": {
      "name": "python3",
      "display_name": "Python 3"
    },
    "language_info": {
      "name": "python"
    }
  },
  "cells": [
    {
      "cell_type": "markdown",
      "source": [
        "#Импортируем библиотеки"
      ],
      "metadata": {
        "id": "8pZ7kl9XYUdx"
      }
    },
    {
      "cell_type": "code",
      "source": [
        "!pip install catboost"
      ],
      "metadata": {
        "colab": {
          "base_uri": "https://localhost:8080/"
        },
        "id": "5QgC387jpw8E",
        "outputId": "668cacf5-0a10-4994-b733-0a7302c3eb10"
      },
      "execution_count": 1,
      "outputs": [
        {
          "output_type": "stream",
          "name": "stdout",
          "text": [
            "Collecting catboost\n",
            "  Downloading catboost-1.0.4-cp37-none-manylinux1_x86_64.whl (76.1 MB)\n",
            "\u001b[K     |████████████████████████████████| 76.1 MB 1.2 MB/s \n",
            "\u001b[?25hRequirement already satisfied: plotly in /usr/local/lib/python3.7/dist-packages (from catboost) (4.4.1)\n",
            "Requirement already satisfied: numpy>=1.16.0 in /usr/local/lib/python3.7/dist-packages (from catboost) (1.19.5)\n",
            "Requirement already satisfied: scipy in /usr/local/lib/python3.7/dist-packages (from catboost) (1.4.1)\n",
            "Requirement already satisfied: matplotlib in /usr/local/lib/python3.7/dist-packages (from catboost) (3.2.2)\n",
            "Requirement already satisfied: graphviz in /usr/local/lib/python3.7/dist-packages (from catboost) (0.10.1)\n",
            "Requirement already satisfied: pandas>=0.24.0 in /usr/local/lib/python3.7/dist-packages (from catboost) (1.1.5)\n",
            "Requirement already satisfied: six in /usr/local/lib/python3.7/dist-packages (from catboost) (1.15.0)\n",
            "Requirement already satisfied: pytz>=2017.2 in /usr/local/lib/python3.7/dist-packages (from pandas>=0.24.0->catboost) (2018.9)\n",
            "Requirement already satisfied: python-dateutil>=2.7.3 in /usr/local/lib/python3.7/dist-packages (from pandas>=0.24.0->catboost) (2.8.2)\n",
            "Requirement already satisfied: kiwisolver>=1.0.1 in /usr/local/lib/python3.7/dist-packages (from matplotlib->catboost) (1.3.2)\n",
            "Requirement already satisfied: cycler>=0.10 in /usr/local/lib/python3.7/dist-packages (from matplotlib->catboost) (0.11.0)\n",
            "Requirement already satisfied: pyparsing!=2.0.4,!=2.1.2,!=2.1.6,>=2.0.1 in /usr/local/lib/python3.7/dist-packages (from matplotlib->catboost) (3.0.6)\n",
            "Requirement already satisfied: retrying>=1.3.3 in /usr/local/lib/python3.7/dist-packages (from plotly->catboost) (1.3.3)\n",
            "Installing collected packages: catboost\n",
            "Successfully installed catboost-1.0.4\n"
          ]
        }
      ]
    },
    {
      "cell_type": "code",
      "execution_count": 8,
      "metadata": {
        "id": "EL_4PaAt0lFd"
      },
      "outputs": [],
      "source": [
        "import joblib\n",
        "import numpy as np\n",
        "import pandas as pd\n",
        "\n",
        "from sklearn.feature_extraction.text import TfidfVectorizer\n",
        "from sklearn.model_selection import train_test_split\n",
        "from sklearn.preprocessing import StandardScaler\n",
        "from sklearn.compose import ColumnTransformer\n",
        "from sklearn.pipeline import Pipeline\n",
        "\n",
        "from sklearn.linear_model import LogisticRegression\n",
        "from sklearn.neural_network import MLPClassifier\n",
        "from sklearn.ensemble import StackingClassifier\n",
        "from catboost import CatBoostClassifier\n",
        "from xgboost import XGBClassifier\n",
        "\n",
        "from sklearn.metrics import roc_auc_score"
      ]
    },
    {
      "cell_type": "markdown",
      "source": [
        "#Предобработка данных\n",
        "Превращаем логи в списки"
      ],
      "metadata": {
        "id": "uvkCJFfNYYXo"
      }
    },
    {
      "cell_type": "markdown",
      "source": [
        "Загружаем тариффы"
      ],
      "metadata": {
        "id": "4Xv-ZouhUi_A"
      }
    },
    {
      "cell_type": "code",
      "source": [
        "tarrif_all_user = pd.read_csv('01_all_users.csv')"
      ],
      "metadata": {
        "id": "Gj2TGQU0ff7k"
      },
      "execution_count": 9,
      "outputs": []
    },
    {
      "cell_type": "markdown",
      "source": [
        "Достаем из логов события, а также даты взяв из них функции (min, max и тд)"
      ],
      "metadata": {
        "id": "6nw8UrDoUlPe"
      }
    },
    {
      "cell_type": "code",
      "source": [
        "ev_log = pd.read_csv('02_events_log.csv').drop('event_date', axis=1)\n",
        "ev_log = ev_log.groupby(['contract_id']).agg(lambda x: '|'.join(x)).reset_index()\n",
        "ev_log['event_type'] = ev_log['event_type'].str.replace('\\|+', '|')\n",
        "ev_log['event_type'] = ev_log['event_type'].str.replace('\\s*\\|\\s*', '|')\n",
        "ev_log['event_type'] = ev_log['event_type'].str.split('|')\n",
        "people_without_log = list(set(tarrif_all_user.contract_id) ^ set(ev_log.contract_id))\n",
        "ev_log = ev_log.append(pd.DataFrame(data={'contract_id':people_without_log, 'event_type':[['0'] for x in range(len(people_without_log))]}))\n",
        "ev_log = ev_log.rename({'event_type':'event_log'}, axis=1)\n",
        "ev_log['event_log_word'] = ev_log.event_log.apply(lambda x: ' '.join(x))\n",
        "\n",
        "ev_log_date = pd.read_csv('02_events_log.csv').drop('event_type', axis=1)\n",
        "ev_log_date['event_date'] = pd.to_datetime(ev_log_date['event_date'])\n",
        "ev_log = pd.merge(ev_log, ev_log_date.groupby(['contract_id']).agg(lambda x: min(x.dt.month)).reset_index().rename({'event_date':'month_min'}, axis=1), on='contract_id')\n",
        "ev_log = pd.merge(ev_log, ev_log_date.groupby(['contract_id']).agg(lambda x: max(x.dt.month)).reset_index().rename({'event_date':'month_max'}, axis=1), on='contract_id')\n",
        "ev_log = pd.merge(ev_log, ev_log_date.groupby(['contract_id']).agg(lambda x: x.dt.month.mean()).reset_index().rename({'event_date':'month_mean'}, axis=1), on='contract_id')\n",
        "ev_log = pd.merge(ev_log, ev_log_date.groupby(['contract_id']).agg(lambda x: x.dt.month.median()).reset_index().rename({'event_date':'month_median'}, axis=1), on='contract_id')\n",
        "ev_log = pd.merge(ev_log, ev_log_date.groupby(['contract_id']).agg(lambda x: min(x.dt.month.mode())).reset_index().rename({'event_date':'month_min_mode'}, axis=1), on='contract_id')\n",
        "ev_log = pd.merge(ev_log, ev_log_date.groupby(['contract_id']).agg(lambda x: max(x.dt.month.mode())).reset_index().rename({'event_date':'month_max_mode'}, axis=1), on='contract_id')\n",
        "ev_log = pd.merge(ev_log, ev_log_date.groupby(['contract_id']).agg(lambda x: min(x.dt.day)).reset_index().rename({'event_date':'day_min'}, axis=1), on='contract_id')\n",
        "ev_log = pd.merge(ev_log, ev_log_date.groupby(['contract_id']).agg(lambda x: max(x.dt.day)).reset_index().rename({'event_date':'day_max'}, axis=1), on='contract_id')\n",
        "ev_log = pd.merge(ev_log, ev_log_date.groupby(['contract_id']).agg(lambda x: x.dt.day.mean()).reset_index().rename({'event_date':'day_mean'}, axis=1), on='contract_id')\n",
        "ev_log = pd.merge(ev_log, ev_log_date.groupby(['contract_id']).agg(lambda x: x.dt.day.median()).reset_index().rename({'event_date':'day_median'}, axis=1), on='contract_id')\n",
        "ev_log = pd.merge(ev_log, ev_log_date.groupby(['contract_id']).agg(lambda x: min(x.dt.day.mode())).reset_index().rename({'event_date':'day_min_mode'}, axis=1), on='contract_id')\n",
        "ev_log = pd.merge(ev_log, ev_log_date.groupby(['contract_id']).agg(lambda x: max(x.dt.day.mode())).reset_index().rename({'event_date':'day_max_mode'}, axis=1), on='contract_id')\n",
        "ev_log = pd.merge(ev_log, ev_log_date.groupby(['contract_id']).agg(lambda x: min(x.dt.hour)).reset_index().rename({'event_date':'hour_min'}, axis=1), on='contract_id')\n",
        "ev_log = pd.merge(ev_log, ev_log_date.groupby(['contract_id']).agg(lambda x: max(x.dt.hour)).reset_index().rename({'event_date':'hour_max'}, axis=1), on='contract_id')\n",
        "ev_log = pd.merge(ev_log, ev_log_date.groupby(['contract_id']).agg(lambda x: x.dt.hour.mean()).reset_index().rename({'event_date':'hour_mean'}, axis=1), on='contract_id')\n",
        "ev_log = pd.merge(ev_log, ev_log_date.groupby(['contract_id']).agg(lambda x: min(x.dt.hour.mode())).reset_index().rename({'event_date':'hour_min_mode'}, axis=1), on='contract_id')\n",
        "ev_log = pd.merge(ev_log, ev_log_date.groupby(['contract_id']).agg(lambda x: max(x.dt.hour.mode())).reset_index().rename({'event_date':'hour_max_mode'}, axis=1), on='contract_id')\n",
        "ev_log = pd.merge(ev_log, ev_log_date.groupby(['contract_id']).agg(lambda x: np.sin(x.dt.hour * 2 * np.pi / 24).mean()).reset_index().rename({'event_date':'hour_sin_mean'}, axis=1), on='contract_id')\n",
        "ev_log = pd.merge(ev_log, ev_log_date.groupby(['contract_id']).agg(lambda x: np.cos(x.dt.hour * 2 * np.pi / 24).mean()).reset_index().rename({'event_date':'hour_cos_mean'}, axis=1), on='contract_id')\n",
        "ev_log = pd.merge(ev_log, ev_log_date.groupby(['contract_id']).agg(lambda x: x.dt.hour.median()).reset_index().rename({'event_date':'hour_median'}, axis=1), on='contract_id')\n",
        "ev_log = pd.merge(ev_log, ev_log_date.groupby(['contract_id']).agg(lambda x: min(x.dt.weekday)).reset_index().rename({'event_date':'weekday_min'}, axis=1), on='contract_id')\n",
        "ev_log = pd.merge(ev_log, ev_log_date.groupby(['contract_id']).agg(lambda x: max(x.dt.weekday)).reset_index().rename({'event_date':'weekday_max'}, axis=1), on='contract_id')\n",
        "ev_log = pd.merge(ev_log, ev_log_date.groupby(['contract_id']).agg(lambda x: x.dt.weekday.mean()).reset_index().rename({'event_date':'weekday_mean'}, axis=1), on='contract_id')\n",
        "ev_log = pd.merge(ev_log, ev_log_date.groupby(['contract_id']).agg(lambda x: x.dt.weekday.median()).reset_index().rename({'event_date':'weekday_median'}, axis=1), on='contract_id')"
      ],
      "metadata": {
        "id": "FpgaPS1rC0N9"
      },
      "execution_count": 10,
      "outputs": []
    },
    {
      "cell_type": "code",
      "source": [
        "lk_log = pd.read_csv('03_lk_events_log.csv').drop('event_date', axis=1)\n",
        "lk_log = lk_log.groupby(['contract_id']).agg(lambda x: '|'.join(x)).reset_index()\n",
        "lk_log['name'] = lk_log['name'].str.replace('\\|+', '|')\n",
        "lk_log['name'] = lk_log['name'].str.replace('\\s*\\|\\s*', '|')\n",
        "lk_log['name'] = lk_log['name'].str.split('|')\n",
        "people_without_log = list(set(tarrif_all_user.contract_id) ^ set(lk_log.contract_id))\n",
        "lk_log = lk_log.append(pd.DataFrame(data={'contract_id':people_without_log, 'name':[['0'] for x in range(len(people_without_log))]}))\n",
        "lk_log = lk_log.rename({'name':'lk_event_log'}, axis=1)\n",
        "lk_log['lk_event_log_word'] = lk_log.lk_event_log.apply(lambda x: ' '.join(x))\n",
        "\n",
        "lk_log_data = pd.read_csv('02_events_log.csv').drop('event_type', axis=1)\n",
        "lk_log_data['event_date'] = pd.to_datetime(lk_log_data['event_date'])\n",
        "lk_log = pd.merge(lk_log, lk_log_data.groupby(['contract_id']).agg(lambda x: max(x.dt.month)).reset_index().rename({'event_date':'lk_month_max'}, axis=1), on='contract_id')\n",
        "lk_log = pd.merge(lk_log, lk_log_data.groupby(['contract_id']).agg(lambda x: x.dt.month.mean()).reset_index().rename({'event_date':'lk_month_mean'}, axis=1), on='contract_id')\n",
        "lk_log = pd.merge(lk_log, lk_log_data.groupby(['contract_id']).agg(lambda x: x.dt.month.median()).reset_index().rename({'event_date':'lk_month_median'}, axis=1), on='contract_id')\n",
        "lk_log = pd.merge(lk_log, lk_log_data.groupby(['contract_id']).agg(lambda x: min(x.dt.month.mode())).reset_index().rename({'event_date':'lk_month_min_mode'}, axis=1), on='contract_id')\n",
        "lk_log = pd.merge(lk_log, lk_log_data.groupby(['contract_id']).agg(lambda x: max(x.dt.month.mode())).reset_index().rename({'event_date':'lk_month_max_mode'}, axis=1), on='contract_id')\n",
        "lk_log = pd.merge(lk_log, lk_log_data.groupby(['contract_id']).agg(lambda x: min(x.dt.day)).reset_index().rename({'event_date':'lk_day_min'}, axis=1), on='contract_id')\n",
        "lk_log = pd.merge(lk_log, lk_log_data.groupby(['contract_id']).agg(lambda x: max(x.dt.day)).reset_index().rename({'event_date':'lk_day_max'}, axis=1), on='contract_id')\n",
        "lk_log = pd.merge(lk_log, lk_log_data.groupby(['contract_id']).agg(lambda x: x.dt.day.mean()).reset_index().rename({'event_date':'lk_day_mean'}, axis=1), on='contract_id')\n",
        "lk_log = pd.merge(lk_log, lk_log_data.groupby(['contract_id']).agg(lambda x: x.dt.day.median()).reset_index().rename({'event_date':'lk_day_median'}, axis=1), on='contract_id')\n",
        "lk_log = pd.merge(lk_log, lk_log_data.groupby(['contract_id']).agg(lambda x: min(x.dt.day.mode())).reset_index().rename({'event_date':'lk_day_min_mode'}, axis=1), on='contract_id')\n",
        "lk_log = pd.merge(lk_log, lk_log_data.groupby(['contract_id']).agg(lambda x: max(x.dt.day.mode())).reset_index().rename({'event_date':'lk_day_max_mode'}, axis=1), on='contract_id')\n",
        "lk_log = pd.merge(lk_log, lk_log_data.groupby(['contract_id']).agg(lambda x: min(x.dt.hour)).reset_index().rename({'event_date':'lk_hour_min'}, axis=1), on='contract_id')\n",
        "lk_log = pd.merge(lk_log, lk_log_data.groupby(['contract_id']).agg(lambda x: max(x.dt.hour)).reset_index().rename({'event_date':'lk_hour_max'}, axis=1), on='contract_id')\n",
        "lk_log = pd.merge(lk_log, lk_log_data.groupby(['contract_id']).agg(lambda x: x.dt.hour.mean()).reset_index().rename({'event_date':'lk_hour_mean'}, axis=1), on='contract_id')\n",
        "lk_log = pd.merge(lk_log, lk_log_data.groupby(['contract_id']).agg(lambda x: np.sin(x.dt.hour * 2 * np.pi / 24).mean()).reset_index().rename({'event_date':'lk_hour_sin_mean'}, axis=1), on='contract_id')\n",
        "lk_log = pd.merge(lk_log, lk_log_data.groupby(['contract_id']).agg(lambda x: np.cos(x.dt.hour * 2 * np.pi / 24).mean()).reset_index().rename({'event_date':'lk_hour_cos_mean'}, axis=1), on='contract_id')\n",
        "lk_log = pd.merge(lk_log, lk_log_data.groupby(['contract_id']).agg(lambda x: x.dt.hour.median()).reset_index().rename({'event_date':'lk_hour_median'}, axis=1), on='contract_id')\n",
        "lk_log = pd.merge(lk_log, lk_log_data.groupby(['contract_id']).agg(lambda x: min(x.dt.hour.mode())).reset_index().rename({'event_date':'lk_hour_min_mode'}, axis=1), on='contract_id')\n",
        "lk_log = pd.merge(lk_log, lk_log_data.groupby(['contract_id']).agg(lambda x: max(x.dt.hour.mode())).reset_index().rename({'event_date':'lk_hour_max_mode'}, axis=1), on='contract_id')\n",
        "lk_log = pd.merge(lk_log, lk_log_data.groupby(['contract_id']).agg(lambda x: min(x.dt.weekday)).reset_index().rename({'event_date':'lk_weekday_min'}, axis=1), on='contract_id')\n",
        "lk_log = pd.merge(lk_log, lk_log_data.groupby(['contract_id']).agg(lambda x: max(x.dt.weekday)).reset_index().rename({'event_date':'lk_weekday_max'}, axis=1), on='contract_id')\n",
        "lk_log = pd.merge(lk_log, lk_log_data.groupby(['contract_id']).agg(lambda x: x.dt.weekday.mean()).reset_index().rename({'event_date':'lk_weekday_mean'}, axis=1), on='contract_id')\n",
        "lk_log = pd.merge(lk_log, lk_log_data.groupby(['contract_id']).agg(lambda x: x.dt.weekday.median()).reset_index().rename({'event_date':'lk_weekday_median'}, axis=1), on='contract_id')"
      ],
      "metadata": {
        "id": "lPhbSdN-IFnl"
      },
      "execution_count": 11,
      "outputs": []
    },
    {
      "cell_type": "markdown",
      "source": [
        "Соединяем все вместе и делаем train и test выборку"
      ],
      "metadata": {
        "id": "rTPzExOhYiKI"
      }
    },
    {
      "cell_type": "code",
      "source": [
        "X_all_people = pd.merge(pd.merge(tarrif_all_user, ev_log, on='contract_id'), lk_log, on='contract_id')"
      ],
      "metadata": {
        "id": "xDORFpv-fDtt"
      },
      "execution_count": 12,
      "outputs": []
    },
    {
      "cell_type": "code",
      "source": [
        "data_train = pd.merge(X_all_people, pd.read_csv('04_is_blocked.csv'), on='contract_id')\n",
        "X = data_train.drop(['contract_id', 'blocked'], axis=1)\n",
        "y = data_train['blocked']\n",
        "\n",
        "X_train, X_test, y_train, y_test = train_test_split(X, y, test_size=0.33, random_state=42)"
      ],
      "metadata": {
        "id": "lCXW6kH64OqY"
      },
      "execution_count": 13,
      "outputs": []
    },
    {
      "cell_type": "markdown",
      "source": [
        "#Модель"
      ],
      "metadata": {
        "id": "zwDI7A7XYl4G"
      }
    },
    {
      "cell_type": "code",
      "source": [
        "def func(x):\n",
        "  return x\n",
        "\n",
        "model = Pipeline([('column', ColumnTransformer([('num', StandardScaler(), ['day_or_month_contract','weekday_min','weekday_max','weekday_mean','lk_weekday_min','lk_weekday_max','lk_weekday_mean','month_min', 'month_max', 'month_mean', 'month_median', 'month_max_mode', 'month_min_mode', 'day_min', 'day_max', 'day_mean', 'day_median', 'day_min_mode', 'day_max_mode', 'hour_min', 'hour_max', 'hour_mean', 'hour_min_mode', 'hour_max_mode', 'hour_sin_mean', 'hour_cos_mean', 'hour_median', 'lk_month_max', 'lk_month_mean', 'lk_month_median', 'lk_month_min_mode', 'lk_month_max_mode', 'lk_day_min', 'lk_day_max', 'lk_day_min_mode', 'lk_day_mean', 'lk_day_median', 'lk_day_max_mode', 'lk_hour_min', 'lk_hour_max', 'lk_hour_mean', 'lk_hour_sin_mean', 'lk_hour_cos_mean', 'lk_hour_median', 'lk_hour_min_mode', 'lk_hour_max_mode']),\n",
        "                            ('evlogs', TfidfVectorizer(analyzer=func), 'event_log'),\n",
        "                            ('lklogs', TfidfVectorizer(analyzer=func), 'lk_event_log'),\n",
        "                            ('wordevlogs', TfidfVectorizer(ngram_range=(1,2)), 'event_log_word'),\n",
        "                            ('wordlklogs', TfidfVectorizer(ngram_range=(1,2)), 'lk_event_log_word')\n",
        "                  ])),\n",
        "                  ('model', StackingClassifier([\n",
        "                            ('xgb', XGBClassifier(learning_rate=0.1, n_estimators=81, subsample=0.8, colsample_bytree=0.8, gamma=5, max_depth=3)),\n",
        "                            ('cat', CatBoostClassifier(iterations=1000, verbose=100, early_stopping_rounds=50)),\n",
        "                            ('log', LogisticRegression(penalty='l2', C=0.5, random_state=42))\n",
        "], cv=2))])\n",
        "model.fit(X_train, y_train)\n",
        "print()"
      ],
      "metadata": {
        "colab": {
          "base_uri": "https://localhost:8080/"
        },
        "id": "gxaom9G09WmX",
        "outputId": "768c73fe-6f4a-4845-f44d-023e08b96045"
      },
      "execution_count": 14,
      "outputs": [
        {
          "output_type": "stream",
          "name": "stdout",
          "text": [
            "Learning rate set to 0.010956\n",
            "0:\tlearn: 0.6874919\ttotal: 90.1ms\tremaining: 1m 30s\n",
            "100:\tlearn: 0.4509129\ttotal: 3.25s\tremaining: 28.9s\n",
            "200:\tlearn: 0.3933940\ttotal: 6.39s\tremaining: 25.4s\n",
            "300:\tlearn: 0.3650175\ttotal: 9.5s\tremaining: 22.1s\n",
            "400:\tlearn: 0.3434764\ttotal: 12.6s\tremaining: 18.8s\n",
            "500:\tlearn: 0.3258111\ttotal: 15.8s\tremaining: 15.7s\n",
            "600:\tlearn: 0.3097979\ttotal: 18.9s\tremaining: 12.6s\n",
            "700:\tlearn: 0.2944381\ttotal: 22.1s\tremaining: 9.43s\n",
            "800:\tlearn: 0.2818676\ttotal: 25.2s\tremaining: 6.27s\n",
            "900:\tlearn: 0.2674890\ttotal: 28.3s\tremaining: 3.11s\n",
            "999:\tlearn: 0.2517425\ttotal: 31.4s\tremaining: 0us\n"
          ]
        },
        {
          "output_type": "stream",
          "name": "stderr",
          "text": [
            "/usr/local/lib/python3.7/dist-packages/sklearn/linear_model/_logistic.py:818: ConvergenceWarning: lbfgs failed to converge (status=1):\n",
            "STOP: TOTAL NO. of ITERATIONS REACHED LIMIT.\n",
            "\n",
            "Increase the number of iterations (max_iter) or scale the data as shown in:\n",
            "    https://scikit-learn.org/stable/modules/preprocessing.html\n",
            "Please also refer to the documentation for alternative solver options:\n",
            "    https://scikit-learn.org/stable/modules/linear_model.html#logistic-regression\n",
            "  extra_warning_msg=_LOGISTIC_SOLVER_CONVERGENCE_MSG,\n"
          ]
        },
        {
          "output_type": "stream",
          "name": "stdout",
          "text": [
            "Learning rate set to 0.008146\n",
            "0:\tlearn: 0.6889925\ttotal: 23.5ms\tremaining: 23.5s\n",
            "100:\tlearn: 0.4666964\ttotal: 1.95s\tremaining: 17.3s\n",
            "200:\tlearn: 0.3958729\ttotal: 3.87s\tremaining: 15.4s\n",
            "300:\tlearn: 0.3574065\ttotal: 5.8s\tremaining: 13.5s\n",
            "400:\tlearn: 0.3304527\ttotal: 7.73s\tremaining: 11.6s\n",
            "500:\tlearn: 0.3100349\ttotal: 9.66s\tremaining: 9.62s\n",
            "600:\tlearn: 0.2928461\ttotal: 11.6s\tremaining: 7.69s\n",
            "700:\tlearn: 0.2769637\ttotal: 13.5s\tremaining: 5.76s\n",
            "800:\tlearn: 0.2625185\ttotal: 15.4s\tremaining: 3.84s\n",
            "900:\tlearn: 0.2508659\ttotal: 17.4s\tremaining: 1.91s\n",
            "999:\tlearn: 0.2386786\ttotal: 19.3s\tremaining: 0us\n",
            "Learning rate set to 0.008152\n",
            "0:\tlearn: 0.6889734\ttotal: 25.3ms\tremaining: 25.3s\n",
            "100:\tlearn: 0.4770224\ttotal: 2.07s\tremaining: 18.4s\n",
            "200:\tlearn: 0.4065082\ttotal: 4.15s\tremaining: 16.5s\n",
            "300:\tlearn: 0.3670111\ttotal: 6.22s\tremaining: 14.5s\n",
            "400:\tlearn: 0.3380567\ttotal: 8.3s\tremaining: 12.4s\n",
            "500:\tlearn: 0.3153301\ttotal: 10.4s\tremaining: 10.3s\n",
            "600:\tlearn: 0.2942218\ttotal: 12.5s\tremaining: 8.27s\n",
            "700:\tlearn: 0.2740492\ttotal: 14.5s\tremaining: 6.2s\n",
            "800:\tlearn: 0.2591301\ttotal: 16.6s\tremaining: 4.12s\n",
            "900:\tlearn: 0.2455954\ttotal: 18.7s\tremaining: 2.05s\n",
            "999:\tlearn: 0.2320799\ttotal: 20.7s\tremaining: 0us\n",
            "\n"
          ]
        }
      ]
    },
    {
      "cell_type": "markdown",
      "source": [
        "График roc auc"
      ],
      "metadata": {
        "id": "6UC32MnPU2N1"
      }
    },
    {
      "cell_type": "code",
      "source": [
        "from sklearn.metrics import RocCurveDisplay\n",
        "\n",
        "RocCurveDisplay.from_estimator(model, X_test, y_test)\n",
        "print('ROC AUC: {:.5f}'.format(roc_auc_score(y_test, model.predict_proba(X_test)[:, 1])))"
      ],
      "metadata": {
        "colab": {
          "base_uri": "https://localhost:8080/",
          "height": 296
        },
        "id": "wdnIEOvG6Z_X",
        "outputId": "5129bd24-b4da-4155-c269-4fe4ea9fc283"
      },
      "execution_count": 15,
      "outputs": [
        {
          "output_type": "stream",
          "name": "stdout",
          "text": [
            "ROC AUC: 0.76223\n"
          ]
        },
        {
          "output_type": "display_data",
          "data": {
            "image/png": "[encoded data removed]",
            "text/plain": [
              "<Figure size 432x288 with 1 Axes>"
            ]
          },
          "metadata": {
            "needs_background": "light"
          }
        }
      ]
    },
    {
      "cell_type": "markdown",
      "source": [
        "#Итог"
      ],
      "metadata": {
        "id": "M58E-CXfktA1"
      }
    },
    {
      "cell_type": "markdown",
      "source": [
        "Делаем test предсказания"
      ],
      "metadata": {
        "id": "p4EV5AIKVGp2"
      }
    },
    {
      "cell_type": "code",
      "source": [
        "data_test = pd.merge(X_all_people, pd.read_csv('test.csv'), on='contract_id')\n",
        "data_test.blocked = model.predict(data_test.drop(['contract_id', 'blocked'], axis=1))\n",
        "data_test[['contract_id', 'blocked']].to_csv('our_test.csv', index=False)"
      ],
      "metadata": {
        "id": "ZxM8nTqwb-ll"
      },
      "execution_count": 16,
      "outputs": []
    },
    {
      "cell_type": "markdown",
      "source": [
        "Сохраняем модель"
      ],
      "metadata": {
        "id": "QKYdBtZ2VQr-"
      }
    },
    {
      "cell_type": "code",
      "source": [
        "joblib.dump(model, 'model.joblib', compress=9)"
      ],
      "metadata": {
        "colab": {
          "base_uri": "https://localhost:8080/"
        },
        "id": "vzPwQDZvUPM3",
        "outputId": "36f5e56e-1c36-48da-d235-0694a6fcfd55"
      },
      "execution_count": 18,
      "outputs": [
        {
          "output_type": "execute_result",
          "data": {
            "text/plain": [
              "['model.joblib']"
            ]
          },
          "metadata": {},
          "execution_count": 18
        }
      ]
    },
    {
      "cell_type": "markdown",
      "source": [
        "Можно также его потом загрузить"
      ],
      "metadata": {
        "id": "5Zesb9OvVTvm"
      }
    },
    {
      "cell_type": "code",
      "source": [
        "model = joblib.load('model.joblib') "
      ],
      "metadata": {
        "id": "eFgbL0nnVWtj"
      },
      "execution_count": 21,
      "outputs": []
    }
  ]
}